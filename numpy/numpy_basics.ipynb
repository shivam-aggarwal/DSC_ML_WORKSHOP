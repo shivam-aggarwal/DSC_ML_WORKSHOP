{
  "nbformat": 4,
  "nbformat_minor": 0,
  "metadata": {
    "colab": {
      "name": "numpy_basics.ipynb",
      "provenance": [],
      "authorship_tag": "ABX9TyOW5/qV2xYtdc4QCfzO06X1",
      "include_colab_link": true
    },
    "kernelspec": {
      "name": "python3",
      "display_name": "Python 3"
    }
  },
  "cells": [
    {
      "cell_type": "markdown",
      "metadata": {
        "id": "view-in-github",
        "colab_type": "text"
      },
      "source": [
        "<a href=\"https://colab.research.google.com/github/shivam-aggarwal/DSC_ML_WORKSHOP/blob/master/numpy/numpy_basics.ipynb\" target=\"_parent\"><img src=\"https://colab.research.google.com/assets/colab-badge.svg\" alt=\"Open In Colab\"/></a>"
      ]
    },
    {
      "cell_type": "markdown",
      "metadata": {
        "id": "73xNm-mLCQCm",
        "colab_type": "text"
      },
      "source": [
        "Please Note these are excerpts from sorces. Please read \"Readme.md\""
      ]
    },
    {
      "cell_type": "code",
      "metadata": {
        "id": "_u__SwM6CLkg",
        "colab_type": "code",
        "colab": {}
      },
      "source": [
        ""
      ],
      "execution_count": 0,
      "outputs": []
    }
  ]
}